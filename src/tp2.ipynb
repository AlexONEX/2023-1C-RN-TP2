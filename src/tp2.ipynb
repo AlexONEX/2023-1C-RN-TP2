{
 "cells": [
  {
   "attachments": {},
   "cell_type": "markdown",
   "metadata": {},
   "source": [
    "# TP 1 - Redes Neuronales\n",
    "Intregrantes: \n",
    "- Ivan Charabora LU: 234/20\n",
    "- Alejandro Schwartzmann LU: 390/20\n",
    "- Paula Pérez Bianchi LU: 7/20"
   ]
  },
  {
   "attachments": {},
   "cell_type": "markdown",
   "metadata": {},
   "source": [
    "## Introducción + código de los métodos"
   ]
  },
  {
   "cell_type": "code",
   "execution_count": null,
   "metadata": {},
   "outputs": [],
   "source": [
    "#Si los imports de abajo no funciona descomentar la línea correspondiente\n",
    "#!pip install numpy\n",
    "#!pip install matplotlib\n",
    "#!pip install requests"
   ]
  },
  {
   "cell_type": "code",
   "execution_count": 3,
   "metadata": {},
   "outputs": [],
   "source": [
    "import numpy as np\n",
    "import matplotlib.pyplot as plt\n",
    "from matplotlib import pyplot as mpl, cm\n",
    "import requests\n",
    "\n",
    "import random # Para poder setear una semilla global y obtener resultados reproducibles\n",
    "random.seed(1221)"
   ]
  },
  {
   "attachments": {},
   "cell_type": "markdown",
   "metadata": {},
   "source": [
    "### Cross Validation\n",
    "Función para separación de folds mezclando los datos  "
   ]
  },
  {
   "cell_type": "code",
   "execution_count": 1,
   "metadata": {},
   "outputs": [],
   "source": [
    "def split_folds(number_of_folds, x_size):\n",
    "    x_idx = np.arange(x_size)\n",
    "    np.random.shuffle(x_idx)\n",
    "    idx_splits = []\n",
    "    fold_size = (x_size//number_of_folds)\n",
    "    \n",
    "    for idx_fold in range(number_of_folds):\n",
    "       if idx_fold == number_of_folds-1:\n",
    "          test = x_idx[idx_fold*fold_size:]\n",
    "       else:\n",
    "          test = x_idx[idx_fold*fold_size: idx_fold*fold_size + fold_size]\n",
    "       \n",
    "       training = x_idx[~np.isin(x_idx, test)]\n",
    "       idx_splits.append((training,  test))\n",
    "    \n",
    "    return idx_splits"
   ]
  },
  {
   "attachments": {},
   "cell_type": "markdown",
   "metadata": {},
   "source": [
    "# Experimentación"
   ]
  },
  {
   "attachments": {},
   "cell_type": "markdown",
   "metadata": {},
   "source": [
    "### Problema 1 - Descripciones en texto de compañias brasileñas \n",
    "\n",
    "El objetivo es poder usar los textos representados en el formato Bag of Words para poder clasificarlos como descripciones de una de las 9 compañias presentes en los datos.\n"
   ]
  },
  {
   "cell_type": "code",
   "execution_count": 62,
   "metadata": {},
   "outputs": [],
   "source": [
    "r = requests.get(\"https://git.exactas.uba.ar/redes-neuronales/clases/-/raw/master/practicas/datos/tp2_training_dataset.csv\")\n",
    "data_with_labels = np.loadtxt(r.iter_lines(), delimiter=\",\")\n",
    "\n",
    "data = data_with_labels[::,1:]\n"
   ]
  },
  {
   "attachments": {},
   "cell_type": "markdown",
   "metadata": {},
   "source": [
    "#### Separamos el training set "
   ]
  },
  {
   "cell_type": "code",
   "execution_count": 63,
   "metadata": {},
   "outputs": [
    {
     "name": "stdout",
     "output_type": "stream",
     "text": [
      "training data shape  (800, 856)\n",
      "eval data shape  (100, 856)\n"
     ]
    }
   ],
   "source": [
    "training_data_len = 800\n",
    "training_idx = np.random.choice(899, training_data_len, replace =False)\n",
    "\n",
    "training = data[training_idx]\n",
    "evaluation = data[~np.isin(np.arange(900),training_idx)] #hand-out set \n",
    "\n",
    "print(\"training data shape \", training.shape)\n",
    "print(\"eval data shape \", evaluation.shape)\n",
    "\n",
    "#Normalizamos \n",
    "training = (training- np.mean(training, axis = 0))/ np.var(training)"
   ]
  }
 ],
 "metadata": {
  "kernelspec": {
   "display_name": "Python 3",
   "language": "python",
   "name": "python3"
  },
  "language_info": {
   "codemirror_mode": {
    "name": "ipython",
    "version": 3
   },
   "file_extension": ".py",
   "mimetype": "text/x-python",
   "name": "python",
   "nbconvert_exporter": "python",
   "pygments_lexer": "ipython3",
   "version": "3.8.10"
  },
  "vscode": {
   "interpreter": {
    "hash": "916dbcbb3f70747c44a77c7bcd40155683ae19c65e1c03b4aa3499c5328201f1"
   }
  }
 },
 "nbformat": 4,
 "nbformat_minor": 2
}
