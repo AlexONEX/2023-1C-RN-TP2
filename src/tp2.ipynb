{
 "cells": [
  {
   "attachments": {},
   "cell_type": "markdown",
   "metadata": {},
   "source": [
    "# TP 1 - Redes Neuronales\n",
    "Intregrantes: \n",
    "- Ivan Charabora LU: 234/20\n",
    "- Alejandro Schwartzmann LU: 390/20\n",
    "- Paula Pérez Bianchi LU: 7/20"
   ]
  },
  {
   "attachments": {},
   "cell_type": "markdown",
   "metadata": {},
   "source": [
    "## Introducción + código de los métodos"
   ]
  },
  {
   "cell_type": "code",
   "execution_count": 2,
   "metadata": {},
   "outputs": [],
   "source": [
    "#Si los imports de abajo no funciona descomentar la línea correspondiente\n",
    "#!pip install numpy\n",
    "#!pip install matplotlib\n",
    "#!pip install requests"
   ]
  },
  {
   "cell_type": "code",
   "execution_count": 3,
   "metadata": {},
   "outputs": [],
   "source": [
    "import numpy as np\n",
    "import matplotlib.pyplot as plt\n",
    "from matplotlib import pyplot as mpl, cm\n",
    "import requests\n",
    "\n",
    "import random # Para poder setear una semilla global y obtener resultados reproducibles\n",
    "random.seed(1221)"
   ]
  },
  {
   "cell_type": "code",
   "execution_count": 4,
   "metadata": {},
   "outputs": [],
   "source": [
    "def oja_generalizada(X, M, lr, epochs=100, decay_rate= 1e-7):\n",
    "    \n",
    "    N = X.shape[1]\n",
    "    W = np.random.normal(size = (N, M))\n",
    "    Y = np.dot( X, W)\n",
    "    orthogonality_values = np.zeros(epochs)\n",
    "    for epoch in range(epochs):  \n",
    "        for x in X: \n",
    "            deltaW = np.zeros(W.shape)\n",
    "            x = x.reshape(1, N)\n",
    "            Y = x@W\n",
    "            Z = np.dot( Y, W.T)\n",
    "            dif= x-Z\n",
    "            dW = np.outer(dif, Y)\n",
    "            W += lr*dW\n",
    "\n",
    "        lr *= (1.0 / (1.0 + decay_rate * epoch))\n",
    "        orthogonality_values[epoch] = np.sum(np.abs(np.dot(W.T, W) - np.identity(M))) / 2\n",
    "\n",
    "    return W, orthogonality_values\n",
    "\n",
    "def sanger(X, M, lr, epochs=100, decay_rate= 1e-7):\n",
    "    \n",
    "    N = X.shape[1]\n",
    "    W = np.random.normal(size = (N, M))\n",
    "    Y = np.dot( X, W)\n",
    "    orthogonality_values = np.zeros(epochs)\n",
    "    for epoch in range(epochs):  \n",
    "        for x in X: \n",
    "            deltaW = np.zeros(W.shape)\n",
    "            x = x.reshape(1, N)\n",
    "            Y = x@W\n",
    "            D = np.triu( np.ones((M,M)))\n",
    "            Z = np.dot( W, Y.T*D)\n",
    "            \n",
    "            dW = (x.T - Z) * Y\n",
    "            W += lr*dW\n",
    "\n",
    "        lr *= (1.0 / (1.0 + decay_rate * epoch))\n",
    "        orthogonality_values[epoch] = np.sum(np.abs(np.dot(W.T, W) - np.identity(M))) / 2\n",
    "\n",
    "    return W, orthogonality_values\n"
   ]
  },
  {
   "attachments": {},
   "cell_type": "markdown",
   "metadata": {},
   "source": [
    "### Visualización de las componentes de a 3"
   ]
  },
  {
   "cell_type": "code",
   "execution_count": 79,
   "metadata": {},
   "outputs": [],
   "source": [
    "def plot_components_in_3d(Y, training_idx, data_with_labels):\n",
    "\n",
    "    fig = plt.figure(figsize=(15, 15))\n",
    "    ax1 = fig.add_subplot(131, projection='3d')\n",
    "    c = np.round(data_with_labels[training_idx,0])\n",
    "    ax1.scatter(Y[:, 0], Y[:, 1], Y[:, 2], c = c, cmap='Dark2', s=50)\n",
    "    ax1.set_xlabel('Componente 1')\n",
    "    ax1.set_ylabel('Componente 2')\n",
    "    ax1.set_zlabel('Componente 3')\n",
    "    ax1.set_title('Primeras 3 componentes principales')\n",
    "\n",
    "    ax2 = fig.add_subplot(132, projection='3d')\n",
    "    c = np.round(data_with_labels[training_idx,0])\n",
    "    ax2.scatter(Y[:, 3], Y[:, 4], Y[:, 5], c = c, cmap='Dark2', s=50)\n",
    "    ax2.set_xlabel('Componente 4')\n",
    "    ax2.set_ylabel('Componente 5')\n",
    "    ax2.set_zlabel('Componente 6')\n",
    "    ax2.set_title('Segundas 3 componentes principales')\n",
    "\n",
    "    ax3 = fig.add_subplot(133, projection='3d')\n",
    "    c = np.round(data_with_labels[training_idx,0])\n",
    "    ax3.scatter(Y[:, 6], Y[:, 7], Y[:, 8], c = c, cmap='Dark2', s=50)\n",
    "    ax3.set_xlabel('Componente 7')\n",
    "    ax3.set_ylabel('Componente 8')\n",
    "    ax3.set_zlabel('Componente 9')\n",
    "    ax3.set_title('Terceras 3 componentes principales')\n",
    "    plt.show()\n",
    "\n",
    "    #plt.savefig(\"\") ---> Para guardar las imagenes"
   ]
  },
  {
   "attachments": {},
   "cell_type": "markdown",
   "metadata": {},
   "source": [
    "### Cross Validation\n",
    "Función para separación de folds mezclando los datos  "
   ]
  },
  {
   "cell_type": "code",
   "execution_count": 5,
   "metadata": {},
   "outputs": [],
   "source": [
    "def split_folds(number_of_folds, x_size):\n",
    "    x_idx = np.arange(x_size)\n",
    "    np.random.shuffle(x_idx)\n",
    "    idx_splits = []\n",
    "    fold_size = (x_size//number_of_folds)\n",
    "    \n",
    "    for idx_fold in range(number_of_folds):\n",
    "       if idx_fold == number_of_folds-1:\n",
    "          test = x_idx[idx_fold*fold_size:]\n",
    "       else:\n",
    "          test = x_idx[idx_fold*fold_size: idx_fold*fold_size + fold_size]\n",
    "       \n",
    "       training = x_idx[~np.isin(x_idx, test)]\n",
    "       idx_splits.append((training,  test))\n",
    "    \n",
    "    return idx_splits"
   ]
  },
  {
   "attachments": {},
   "cell_type": "markdown",
   "metadata": {},
   "source": [
    "# Experimentación"
   ]
  },
  {
   "attachments": {},
   "cell_type": "markdown",
   "metadata": {},
   "source": [
    "### Problema 1 - Descripciones en texto de compañias brasileñas \n",
    "\n",
    "El objetivo es poder usar los textos representados en el formato Bag of Words para poder clasificar las empresas segun su actividad principal. \n"
   ]
  },
  {
   "cell_type": "code",
   "execution_count": 6,
   "metadata": {},
   "outputs": [],
   "source": [
    "r = requests.get(\"https://git.exactas.uba.ar/redes-neuronales/clases/-/raw/master/practicas/datos/tp2_training_dataset.csv\")\n",
    "data_with_labels = np.loadtxt(r.iter_lines(), delimiter=\",\")\n",
    "\n",
    "data = data_with_labels[::,1:]\n"
   ]
  },
  {
   "attachments": {},
   "cell_type": "markdown",
   "metadata": {},
   "source": [
    "#### Separamos el training set "
   ]
  },
  {
   "cell_type": "code",
   "execution_count": 7,
   "metadata": {},
   "outputs": [
    {
     "name": "stdout",
     "output_type": "stream",
     "text": [
      "training data shape  (800, 856)\n",
      "eval data shape  (100, 856)\n"
     ]
    }
   ],
   "source": [
    "training_data_len = 800\n",
    "training_idx = np.random.choice(899, training_data_len, replace =False)\n",
    "\n",
    "training = data[training_idx]\n",
    "evaluation = data[~np.isin(np.arange(900),training_idx)] #hand-out set \n",
    "\n",
    "print(\"training data shape \", training.shape)\n",
    "print(\"eval data shape \", evaluation.shape)\n",
    "\n",
    "#Normalizamos \n",
    "training = (training- np.mean(training, axis = 0))/ np.std(training)"
   ]
  },
  {
   "cell_type": "code",
   "execution_count": 80,
   "metadata": {},
   "outputs": [],
   "source": [
    "W_oja, o_oja  = oja_generalizada(training, 9, 0.000001, 2000)\n",
    "Y_oja = training@W_oja\n",
    "plot_components_in_3d(Y_oja, training_idx, data_with_labels)"
   ]
  },
  {
   "cell_type": "code",
   "execution_count": 113,
   "metadata": {},
   "outputs": [],
   "source": [
    "W_sanger, o_sanger = sanger(training, 9, 0.000001, 100)\n",
    "Y_sanger = training@W_sanger\n",
    "plot_components_in_3d(Y_sanger, training_idx, data_with_labels)\n"
   ]
  }
 ],
 "metadata": {
  "kernelspec": {
   "display_name": "Python 3",
   "language": "python",
   "name": "python3"
  },
  "language_info": {
   "codemirror_mode": {
    "name": "ipython",
    "version": 3
   },
   "file_extension": ".py",
   "mimetype": "text/x-python",
   "name": "python",
   "nbconvert_exporter": "python",
   "pygments_lexer": "ipython3",
   "version": "3.8.10"
  },
  "vscode": {
   "interpreter": {
    "hash": "916dbcbb3f70747c44a77c7bcd40155683ae19c65e1c03b4aa3499c5328201f1"
   }
  }
 },
 "nbformat": 4,
 "nbformat_minor": 2
}
